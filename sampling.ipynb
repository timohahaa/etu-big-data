{
 "cells": [
  {
   "cell_type": "code",
   "execution_count": 8,
   "id": "12323c75-cd94-4fba-b43e-9135341ab624",
   "metadata": {},
   "outputs": [
    {
     "name": "stdout",
     "output_type": "stream",
     "text": [
      "'Active Wiretap'  'Mirai Botnet'  'SSL Renegotiation'\n",
      "'ARP MitM'\t  'OS Scan'\t  'SYN DoS'\n",
      " Fuzzing\t  'SSDP Flood'\t  'Video Injection'\n"
     ]
    }
   ],
   "source": [
    "!ls raw_data"
   ]
  },
  {
   "cell_type": "code",
   "execution_count": 1,
   "id": "8ce838b9-3997-471e-b72f-d560e5432e7e",
   "metadata": {},
   "outputs": [],
   "source": [
    "import pandas as pd\n",
    "import os"
   ]
  },
  {
   "cell_type": "code",
   "execution_count": 10,
   "id": "024eae20-bcba-481c-a119-737f2e813e2b",
   "metadata": {},
   "outputs": [],
   "source": [
    "# Define the function to sample the data and save to a new CSV file\n",
    "def sample_data(folder_name):\n",
    "    print(folder_name, \"==>\")\n",
    "    # Set the path to the folder\n",
    "    folder_path = os.path.join('./raw_data', folder_name)\n",
    "\n",
    "    # Search for data and label files in the folder\n",
    "    data_file_path = ''\n",
    "    label_file_path = ''\n",
    "    for file_name in os.listdir(folder_path):\n",
    "        if file_name.endswith('_dataset.csv'):\n",
    "            data_file_path = os.path.join(folder_path, file_name)\n",
    "        elif file_name.endswith('_labels.csv'):\n",
    "            label_file_path = os.path.join(folder_path, file_name)\n",
    "  \n",
    "    # Load the labels into pandas dataframes\n",
    "    # header is 0-th row, index is 0-th col\n",
    "    labels = pd.read_csv(label_file_path, header=0, index_col=0)\n",
    "    label_column_name = 'x'\n",
    "    \n",
    "    # Count the records with 0 and 1 in the label column\n",
    "    n_0 = labels[label_column_name].value_counts()[0]\n",
    "    n_1 = labels[label_column_name].value_counts()[1]\n",
    "\n",
    "    print(\"   benign :\", n_0)\n",
    "    print(\"   attack :\", n_1)\n",
    "\n",
    "    # Load data\n",
    "    print(\"   Loading data...\")\n",
    "    data = pd.read_csv(data_file_path, header=None)\n",
    "\n",
    "    # Merge data with labels\n",
    "    print(\"   Merging data...\")\n",
    "    df = pd.merge(data, labels,left_index=True, right_index=True)\n",
    "    \n",
    "    # Drop any duplicate rows in the data and labels\n",
    "    print(\"   Dropping duplicates...\")\n",
    "    df = df.drop_duplicates()\n",
    "    \n",
    "    # Filter out records with label equal to 0 and 1 (benign/attack)\n",
    "    print(\"   Filtering...\")\n",
    "    df_0 = df[df[label_column_name] == 0]\n",
    "    df_1 = df[df[label_column_name] == 1]\n",
    "\n",
    "    # Randomly sample 1000 records from each group\n",
    "    print(\"   Sampling...\")\n",
    "    df_0_sampled = df_0.sample(n=7000, replace=True, random_state=42)\n",
    "    df_1_sampled = df_1.sample(n=7000, replace=True, random_state=42)\n",
    "\n",
    "    # Concatenate the two groups back together\n",
    "    print(\"   Concatinating...\")\n",
    "    df_sampled = pd.concat([df_0_sampled, df_1_sampled]).reset_index(drop=True)\n",
    "\n",
    "    # Shuffle the rows of the resulting dataframe\n",
    "    print(\"   Shuffling data...\")\n",
    "    df_sampled = df_sampled.sample(frac=1, random_state=42)\n",
    "\n",
    "    # Save result as csv\n",
    "    folder_name = folder_name.replace(' ', '_').lower()\n",
    "    output_filename = f'{folder_name}_sampled.csv'\n",
    "    print(\"   Saving to csv...\")\n",
    "    df_sampled.to_csv(output_filename, index=False)\n",
    "    print(\"   Done.\")\n",
    "    print()\n",
    "    \n",
    "    return"
   ]
  },
  {
   "cell_type": "code",
   "execution_count": null,
   "id": "5a9b0622-14a3-4bad-8d7d-1c614e80523d",
   "metadata": {},
   "outputs": [
    {
     "name": "stdout",
     "output_type": "stream",
     "text": [
      "SSDP Flood ==>\n",
      "   benign : 2637662\n",
      "   attack : 1439604\n",
      "   Loading data...\n",
      "   Merging data...\n"
     ]
    }
   ],
   "source": [
    "# skip mirai botnet, it does not have index column\n",
    "folders = [\n",
    "    #'Active Wiretap',\n",
    "    #'ARP MitM',\n",
    "    #'Fuzzing',\n",
    "    #'OS Scan',\n",
    "    'SSDP Flood',\n",
    "    #'SSL Renegotiation',\n",
    "    #'SYN DoS',\n",
    "    #'Video Injection',\n",
    "]\n",
    "for folder in folders:\n",
    "  sample_data(folder)"
   ]
  },
  {
   "cell_type": "code",
   "execution_count": 15,
   "id": "4db1dd84-ccfc-401f-b5e6-0ed58b7c1cc4",
   "metadata": {},
   "outputs": [],
   "source": [
    "# Mirai Botnet dataset does not have and index and header column\n",
    "def sample_mirai(folder_name):\n",
    "    print(folder_name, \"==>\")\n",
    "    # Set the path to the folder\n",
    "    folder_path = os.path.join('./raw_data', folder_name)\n",
    "\n",
    "    # Search for data and label files in the folder\n",
    "    data_file_path = ''\n",
    "    label_file_path = ''\n",
    "    for file_name in os.listdir(folder_path):\n",
    "        if file_name.endswith('_dataset.csv'):\n",
    "            data_file_path = os.path.join(folder_path, file_name)\n",
    "        elif file_name.endswith('_labels.csv'):\n",
    "            label_file_path = os.path.join(folder_path, file_name)\n",
    "  \n",
    "    # Load the labels into pandas dataframes\n",
    "    # header is 0-th row, index is 0-th col\n",
    "    labels = pd.read_csv(label_file_path, header=None)\n",
    "    label_column_name = 'x'\n",
    "    labels.columns = [label_column_name]\n",
    "    \n",
    "    # Count the records with 0 and 1 in the label column\n",
    "    n_0 = labels[label_column_name].value_counts()[0]\n",
    "    n_1 = labels[label_column_name].value_counts()[1]\n",
    "\n",
    "    print(\"   benign :\", n_0)\n",
    "    print(\"   attack :\", n_1)\n",
    "\n",
    "    # Load data\n",
    "    print(\"   Loading data...\")\n",
    "    data = pd.read_csv(data_file_path, header=None, index_col=0)\n",
    "\n",
    "    # Merge data with labels\n",
    "    print(\"   Merging data...\")\n",
    "    df = pd.merge(data, labels,left_index=True, right_index=True)\n",
    "    \n",
    "    # Drop any duplicate rows in the data and labels\n",
    "    print(\"   Dropping duplicates...\")\n",
    "    df = df.drop_duplicates()\n",
    "    \n",
    "    # Filter out records with label equal to 0 and 1 (benign/attack)\n",
    "    print(\"   Filtering...\")\n",
    "    df_0 = df[df[label_column_name] == 0]\n",
    "    df_1 = df[df[label_column_name] == 1]\n",
    "\n",
    "    # Randomly sample 1000 records from each group\n",
    "    print(\"   Sampling...\")\n",
    "    df_0_sampled = df_0.sample(n=7000, replace=True, random_state=42)\n",
    "    df_1_sampled = df_1.sample(n=7000, replace=True, random_state=42)\n",
    "\n",
    "    # Concatenate the two groups back together\n",
    "    print(\"   Concatinating...\")\n",
    "    df_sampled = pd.concat([df_0_sampled, df_1_sampled]).reset_index(drop=True)\n",
    "\n",
    "    # Shuffle the rows of the resulting dataframe\n",
    "    print(\"   Shuffling data...\")\n",
    "    df_sampled = df_sampled.sample(frac=1, random_state=42)\n",
    "\n",
    "    # Save result as csv\n",
    "    folder_name = folder_name.replace(' ', '_').lower()\n",
    "    output_filename = f'{folder_name}_sampled.csv'\n",
    "    print(\"   Saving to csv...\")\n",
    "    df_sampled.to_csv(output_filename, index=False)\n",
    "    print(\"   Done.\")\n",
    "    print()\n",
    "\n",
    "    return"
   ]
  },
  {
   "cell_type": "code",
   "execution_count": 16,
   "id": "4914dba6-ee2f-420f-a39c-ec26814e3352",
   "metadata": {},
   "outputs": [
    {
     "name": "stdout",
     "output_type": "stream",
     "text": [
      "Mirai Botnet ==>\n",
      "   benign : 121621\n",
      "   attack : 642516\n",
      "   Loading data...\n",
      "   Merging data...\n",
      "   Dropping duplicates...\n",
      "   Filtering...\n",
      "   Sampling...\n",
      "   Concatinating...\n",
      "   Shuffling data...\n",
      "   Saving to csv...\n",
      "   Done.\n",
      "\n"
     ]
    }
   ],
   "source": [
    "sample_mirai('Mirai Botnet')"
   ]
  },
  {
   "cell_type": "code",
   "execution_count": null,
   "id": "13c0a332-b951-4d0c-887a-c1612b595a1f",
   "metadata": {},
   "outputs": [],
   "source": []
  }
 ],
 "metadata": {
  "kernelspec": {
   "display_name": "Python 3 (ipykernel)",
   "language": "python",
   "name": "python3"
  },
  "language_info": {
   "codemirror_mode": {
    "name": "ipython",
    "version": 3
   },
   "file_extension": ".py",
   "mimetype": "text/x-python",
   "name": "python",
   "nbconvert_exporter": "python",
   "pygments_lexer": "ipython3",
   "version": "3.10.12"
  }
 },
 "nbformat": 4,
 "nbformat_minor": 5
}
