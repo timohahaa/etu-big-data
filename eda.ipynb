{
 "cells": [
  {
   "cell_type": "code",
   "execution_count": 1,
   "id": "a288ba3d-45fa-4340-b2d5-a868f207f0aa",
   "metadata": {},
   "outputs": [
    {
     "name": "stdout",
     "output_type": "stream",
     "text": [
      "'Active Wiretap'  'Mirai Botnet'  'SSL Renegotiation'\n",
      "'ARP MitM'\t  'OS Scan'\t  'SYN DoS'\n",
      " Fuzzing\t  'SSDP Flood'\t  'Video Injection'\n"
     ]
    }
   ],
   "source": [
    "!ls raw_data"
   ]
  },
  {
   "cell_type": "code",
   "execution_count": 2,
   "id": "df6c27d2-f0c0-4f86-bf8f-0f55214f44dd",
   "metadata": {},
   "outputs": [],
   "source": [
    "import pandas as pd\n",
    "import matplotlib.pyplot as plt\n",
    "import numpy as np\n",
    "from scipy import stats\n",
    "import os"
   ]
  },
  {
   "cell_type": "code",
   "execution_count": 3,
   "id": "de127111-4f5d-4de2-9fd6-d39c998dec8d",
   "metadata": {},
   "outputs": [],
   "source": [
    "# Define the function to count labels in datasets (check how sqewed is the data)\n",
    "def count_classes(folder_name):\n",
    "    print(folder_name, \"==>\")\n",
    "    # Set the path to the folder\n",
    "    folder_path = os.path.join('./raw_data', folder_name)\n",
    "\n",
    "    # Search for data and label files in the folder\n",
    "    data_file_path = ''\n",
    "    label_file_path = ''\n",
    "    for file_name in os.listdir(folder_path):\n",
    "        if file_name.endswith('_dataset.csv'):\n",
    "            data_file_path = os.path.join(folder_path, file_name)\n",
    "        elif file_name.endswith('_labels.csv'):\n",
    "            label_file_path = os.path.join(folder_path, file_name)\n",
    "  \n",
    "    # Load the labels into pandas dataframes\n",
    "    # header is 0-th row, index is 0-th col\n",
    "    labels = pd.read_csv(label_file_path, header=0, index_col=0)\n",
    "    label_column_name = 'x'\n",
    "    \n",
    "    # Count the records with 0 and 1 in the label column\n",
    "    n_0 = labels[label_column_name].value_counts()[0]\n",
    "    n_1 = labels[label_column_name].value_counts()[1]\n",
    "\n",
    "    print(\"   benign :\", n_0)\n",
    "    print(\"   attack :\", n_1)\n",
    "    \n",
    "    return int(n_0), int(n_1)"
   ]
  },
  {
   "cell_type": "code",
   "execution_count": 4,
   "id": "4ac5c4ba-43c5-43e6-935a-06e86a66301b",
   "metadata": {},
   "outputs": [
    {
     "name": "stdout",
     "output_type": "stream",
     "text": [
      "Active Wiretap ==>\n",
      "   benign : 1355473\n",
      "   attack : 923216\n",
      "ARP MitM ==>\n",
      "   benign : 1358995\n",
      "   attack : 1145272\n",
      "Fuzzing ==>\n",
      "   benign : 1811356\n",
      "   attack : 432783\n",
      "OS Scan ==>\n",
      "   benign : 1632151\n",
      "   attack : 65700\n",
      "SSDP Flood ==>\n",
      "   benign : 2637662\n",
      "   attack : 1439604\n",
      "SSL Renegotiation ==>\n",
      "   benign : 2114919\n",
      "   attack : 92652\n",
      "SYN DoS ==>\n",
      "   benign : 2764238\n",
      "   attack : 7038\n",
      "Video Injection ==>\n",
      "   benign : 2369902\n",
      "   attack : 102499\n"
     ]
    }
   ],
   "source": [
    "# skip mirai botnet, it does not have index column\n",
    "folders = [\n",
    "    'Active Wiretap',\n",
    "    'ARP MitM',\n",
    "    'Fuzzing',\n",
    "    'OS Scan',\n",
    "    'SSDP Flood',\n",
    "    'SSL Renegotiation',\n",
    "    'SYN DoS',\n",
    "    'Video Injection',\n",
    "]\n",
    "\n",
    "count_map = dict()\n",
    "\n",
    "for folder in folders:\n",
    "    n_0, n_1 = count_classes(folder)\n",
    "    count_map[folder] = (n_0, n_1)"
   ]
  },
  {
   "cell_type": "code",
   "execution_count": 5,
   "id": "a4b6991a-3bc0-4d1b-be75-e27fe6926363",
   "metadata": {},
   "outputs": [],
   "source": [
    "# Mirai Botnet dataset does not have and index and header column\n",
    "def count_mirai(folder_name):\n",
    "    print(folder_name, \"==>\")\n",
    "    # Set the path to the folder\n",
    "    folder_path = os.path.join('./raw_data', folder_name)\n",
    "\n",
    "    # Search for data and label files in the folder\n",
    "    data_file_path = ''\n",
    "    label_file_path = ''\n",
    "    for file_name in os.listdir(folder_path):\n",
    "        if file_name.endswith('_dataset.csv'):\n",
    "            data_file_path = os.path.join(folder_path, file_name)\n",
    "        elif file_name.endswith('_labels.csv'):\n",
    "            label_file_path = os.path.join(folder_path, file_name)\n",
    "  \n",
    "    # Load the labels into pandas dataframes\n",
    "    # header is 0-th row, index is 0-th col\n",
    "    labels = pd.read_csv(label_file_path, header=None)\n",
    "    label_column_name = 'x'\n",
    "    labels.columns = [label_column_name]\n",
    "    \n",
    "    # Count the records with 0 and 1 in the label column\n",
    "    n_0 = labels[label_column_name].value_counts()[0]\n",
    "    n_1 = labels[label_column_name].value_counts()[1]\n",
    "\n",
    "    print(\"   benign :\", n_0)\n",
    "    print(\"   attack :\", n_1)\n",
    "\n",
    "    return int(n_0), int(n_1)"
   ]
  },
  {
   "cell_type": "code",
   "execution_count": 6,
   "id": "1f760adc-832f-406a-82a3-665a93398161",
   "metadata": {},
   "outputs": [
    {
     "name": "stdout",
     "output_type": "stream",
     "text": [
      "Mirai Botnet ==>\n",
      "   benign : 121621\n",
      "   attack : 642516\n"
     ]
    }
   ],
   "source": [
    "folder = 'Mirai Botnet'\n",
    "n_0, n_1 = count_mirai(folder)\n",
    "count_map[folder] = (n_0, n_1)"
   ]
  },
  {
   "cell_type": "code",
   "execution_count": 7,
   "id": "8ae5fb55-980d-4c62-b39c-82c915e31efc",
   "metadata": {},
   "outputs": [
    {
     "data": {
      "text/plain": [
       "<Axes: >"
      ]
     },
     "execution_count": 7,
     "metadata": {},
     "output_type": "execute_result"
    },
    {
     "data": {
      "image/png": "[encoded data removed]",
      "text/plain": [
       "<Figure size 640x480 with 1 Axes>"
      ]
     },
     "metadata": {},
     "output_type": "display_data"
    }
   ],
   "source": [
    "df = pd.DataFrame.from_dict(count_map, orient='index')\n",
    "df.plot(kind='barh', colormap='coolwarm')"
   ]
  },
  {
   "cell_type": "code",
   "execution_count": 8,
   "id": "792b5ed9-6de4-4ef8-a8b0-14c392cc6235",
   "metadata": {},
   "outputs": [],
   "source": [
    "def base_check(folder_name):\n",
    "    print(folder_name, \"==>\")\n",
    "    # Set the path to the folder\n",
    "    folder_path = os.path.join('./raw_data', folder_name)\n",
    "\n",
    "    # Search for data and label files in the folder\n",
    "    data_file_path = ''\n",
    "    label_file_path = ''\n",
    "    for file_name in os.listdir(folder_path):\n",
    "        if file_name.endswith('_dataset.csv'):\n",
    "            data_file_path = os.path.join(folder_path, file_name)\n",
    "        elif file_name.endswith('_labels.csv'):\n",
    "            label_file_path = os.path.join(folder_path, file_name)\n",
    "        \n",
    "    # Load data\n",
    "    print(\"   Loading data...\")\n",
    "    data = pd.read_csv(data_file_path, header=None)\n",
    "\n",
    "    print('   shape: ', data.shape)\n",
    "\n",
    "    contains_nulls = False\n",
    "    for val in data.isnull().sum():\n",
    "        if val > 0:\n",
    "            contains_nulls = True\n",
    "\n",
    "    contains_nan = False\n",
    "    for val in data.isna().sum():\n",
    "        if val > 0:\n",
    "            contains_nan = True\n",
    "\n",
    "    if contains_nulls:\n",
    "        print('   contains nulls')\n",
    "    else:\n",
    "        print('   does not contain nulls')\n",
    "\n",
    "    if contains_nan:\n",
    "        print('   contains NaN')\n",
    "    else:\n",
    "        print('   does not contain Nan')\n",
    "\n",
    "    \n",
    "    outliers_threshold = 3\n",
    "    z_scores = np.abs(stats.zscore(data, nan_policy='omit'))\n",
    "    mask = (z_scores <= outliers_threshold).all(axis=1)\n",
    "    print(f\"   Number of outlier rows = {len(mask[mask == False])} from (total) {data.shape[0]} rows\")\n",
    "    \n",
    "\n",
    "    return data"
   ]
  },
  {
   "cell_type": "code",
   "execution_count": 9,
   "id": "96a36d42-8da5-4077-8080-93eaf5d8b553",
   "metadata": {},
   "outputs": [
    {
     "name": "stdout",
     "output_type": "stream",
     "text": [
      "Active Wiretap ==>\n",
      "   Loading data...\n",
      "   shape:  (2278689, 115)\n",
      "   does not contain nulls\n",
      "   does not contain Nan\n",
      "   Number of outlier rows = 358822 from (total) 2278689 rows\n"
     ]
    }
   ],
   "source": [
    "df = base_check('Active Wiretap')"
   ]
  },
  {
   "cell_type": "code",
   "execution_count": 10,
   "id": "cf497d31-c6d2-458d-a57d-b50fec83acba",
   "metadata": {},
   "outputs": [
    {
     "name": "stdout",
     "output_type": "stream",
     "text": [
      "ARP MitM ==>\n",
      "   Loading data...\n",
      "   shape:  (2504267, 115)\n",
      "   does not contain nulls\n",
      "   does not contain Nan\n",
      "   Number of outlier rows = 404306 from (total) 2504267 rows\n"
     ]
    }
   ],
   "source": [
    "df = base_check('ARP MitM')"
   ]
  },
  {
   "cell_type": "code",
   "execution_count": 11,
   "id": "b30b46af-8904-42d0-9e3f-adb89b8318d3",
   "metadata": {},
   "outputs": [
    {
     "name": "stdout",
     "output_type": "stream",
     "text": [
      "Fuzzing ==>\n",
      "   Loading data...\n",
      "   shape:  (2244139, 115)\n",
      "   does not contain nulls\n",
      "   does not contain Nan\n",
      "   Number of outlier rows = 578807 from (total) 2244139 rows\n"
     ]
    }
   ],
   "source": [
    "df = base_check('Fuzzing')"
   ]
  },
  {
   "cell_type": "code",
   "execution_count": 12,
   "id": "57207111-5186-4eb8-ba5c-e0c60846ca7a",
   "metadata": {},
   "outputs": [
    {
     "name": "stdout",
     "output_type": "stream",
     "text": [
      "OS Scan ==>\n",
      "   Loading data...\n",
      "   shape:  (1697851, 115)\n",
      "   does not contain nulls\n",
      "   does not contain Nan\n",
      "   Number of outlier rows = 132706 from (total) 1697851 rows\n"
     ]
    }
   ],
   "source": [
    "df = base_check('OS Scan')"
   ]
  },
  {
   "cell_type": "code",
   "execution_count": 13,
   "id": "79e38007-64d3-41c3-8c39-3b9a31af1587",
   "metadata": {},
   "outputs": [],
   "source": [
    "#df = base_check('SSDP Flood')"
   ]
  },
  {
   "cell_type": "code",
   "execution_count": 14,
   "id": "71b3492f-caab-4414-b53c-e7fa3336da6b",
   "metadata": {},
   "outputs": [
    {
     "name": "stdout",
     "output_type": "stream",
     "text": [
      "SSL Renegotiation ==>\n",
      "   Loading data...\n",
      "   shape:  (2207571, 115)\n",
      "   does not contain nulls\n",
      "   does not contain Nan\n",
      "   Number of outlier rows = 136612 from (total) 2207571 rows\n"
     ]
    }
   ],
   "source": [
    "df = base_check('SSL Renegotiation')"
   ]
  },
  {
   "cell_type": "code",
   "execution_count": null,
   "id": "6fab863d-3701-49b0-9c43-e7fc1206babf",
   "metadata": {},
   "outputs": [
    {
     "name": "stdout",
     "output_type": "stream",
     "text": [
      "SYN DoS ==>\n",
      "   Loading data...\n",
      "   shape:  (2771276, 115)\n",
      "   does not contain nulls\n",
      "   does not contain Nan\n"
     ]
    }
   ],
   "source": [
    "df = base_check('SYN DoS')"
   ]
  },
  {
   "cell_type": "code",
   "execution_count": null,
   "id": "c3bcf709-bc21-4427-9ebd-ac7325ed7aac",
   "metadata": {},
   "outputs": [],
   "source": [
    "df = base_check('Video Injection')"
   ]
  },
  {
   "cell_type": "code",
   "execution_count": null,
   "id": "f7de2e1f-60a5-4dc3-a463-6c995d953113",
   "metadata": {},
   "outputs": [],
   "source": [
    "df = base_check('Mirai Botner')"
   ]
  }
 ],
 "metadata": {
  "kernelspec": {
   "display_name": "Python 3 (ipykernel)",
   "language": "python",
   "name": "python3"
  },
  "language_info": {
   "codemirror_mode": {
    "name": "ipython",
    "version": 3
   },
   "file_extension": ".py",
   "mimetype": "text/x-python",
   "name": "python",
   "nbconvert_exporter": "python",
   "pygments_lexer": "ipython3",
   "version": "3.10.12"
  }
 },
 "nbformat": 4,
 "nbformat_minor": 5
}
